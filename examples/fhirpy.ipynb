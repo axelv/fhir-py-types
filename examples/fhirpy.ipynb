{
 "cells": [
  {
   "cell_type": "code",
   "execution_count": 1,
   "id": "b1570ff0-3a5d-47ea-a1f7-6c9a4f752424",
   "metadata": {},
   "outputs": [
    {
     "name": "stdout",
     "output_type": "stream",
     "text": []
    }
   ],
   "source": [
    "%pip install fhirpy mypy"
   ]
  },
  {
   "cell_type": "code",
   "execution_count": 2,
   "id": "f6fa37cc-1619-4980-bbf2-bb9c692244a6",
   "metadata": {},
   "outputs": [],
   "source": [
    "from fhirpy import SyncFHIRClient\n",
    "\n",
    "from generated.resources import Patient\n",
    "\n",
    "FHIR_SERVER_API = \"<FHIR server URL>\"\n",
    "FHIR_SERVER_AUTH = \"<Bearer, Basic or other supported auth mechanism>\"\n",
    "\n",
    "client = SyncFHIRClient(FHIR_SERVER_API, authorization=FHIR_SERVER_AUTH)"
   ]
  },
  {
   "cell_type": "markdown",
   "id": "d7fdbc9b-a143-4a68-84b0-6dcc4c7a34b7",
   "metadata": {
    "tags": []
   },
   "source": [
    "#### Define helper function to run mypy typechecking on jupyter cells"
   ]
  },
  {
   "cell_type": "code",
   "execution_count": 3,
   "id": "17c79176-2894-4468-9da3-2d45d22ebdef",
   "metadata": {},
   "outputs": [],
   "source": [
    "from mypy import api as typechecker\n",
    "\n",
    "def typecheck(block: str):\n",
    "    mypy_error, _, _ = typechecker.run([\n",
    "        '--no-color-output',\n",
    "        '--no-error-summary',\n",
    "        '--ignore-missing-imports',\n",
    "        '-c', \"\\n\\n\".join([In[2], block])\n",
    "    ])\n",
    "    return mypy_error or 'OK'"
   ]
  },
  {
   "cell_type": "markdown",
   "id": "98a28fa7-f292-446e-b979-af8d6a8381b1",
   "metadata": {},
   "source": [
    "#### Describe `Patient` resource using generated type definitions"
   ]
  },
  {
   "cell_type": "code",
   "execution_count": 4,
   "id": "b893fb05-d230-4f4b-9415-68051e9cb7fb",
   "metadata": {},
   "outputs": [
    {
     "data": {
      "text/plain": [
       "[<SyncFHIRResource Patient/8ddefd45-7b8f-4f40-ba8c-604f5eec4884>]"
      ]
     },
     "execution_count": 4,
     "metadata": {},
     "output_type": "execute_result"
    }
   ],
   "source": [
    "patient = Patient(name=[{\"family\": \"Smith\", \"given\": [\"Andrew\"]}], gender=\"male\")\n",
    "\n",
    "client.resources(\"Patient\").search(name=patient[\"name\"][0][\"family\"]).fetch()"
   ]
  },
  {
   "cell_type": "markdown",
   "id": "1a9e778d-89a5-4397-b8c9-a81cb9f8c6ae",
   "metadata": {},
   "source": [
    "#### Make sure the resource structure is aligned to the definition"
   ]
  },
  {
   "cell_type": "code",
   "execution_count": 5,
   "id": "27f1c6eb-7e45-4dea-9a7d-8b0efcbb8fb4",
   "metadata": {},
   "outputs": [
    {
     "data": {
      "text/plain": [
       "'OK'"
      ]
     },
     "execution_count": 5,
     "metadata": {},
     "output_type": "execute_result"
    }
   ],
   "source": [
    "typecheck(In[4])"
   ]
  },
  {
   "cell_type": "markdown",
   "id": "a245185f-43dc-4d5c-ad1d-8549b5f9b48f",
   "metadata": {},
   "source": [
    "#### Should there be any errors in the constructor arguments typecheck would fail"
   ]
  },
  {
   "cell_type": "code",
   "execution_count": 6,
   "id": "5bdb69e6-91e8-479c-a311-a2db7a5c888d",
   "metadata": {},
   "outputs": [
    {
     "data": {
      "text/plain": [
       "{'name': [{'family': 'Smith', 'given': ['Andrew']}], 'gender': ['male']}"
      ]
     },
     "execution_count": 6,
     "metadata": {},
     "output_type": "execute_result"
    }
   ],
   "source": [
    "Patient(name=[{\"family\": \"Smith\", \"given\": [\"Andrew\"]}], gender=[\"male\"])"
   ]
  },
  {
   "cell_type": "code",
   "execution_count": 7,
   "id": "2db68eb5-9668-423e-9919-4b1dc13985db",
   "metadata": {},
   "outputs": [
    {
     "data": {
      "text/plain": [
       "'<string>:10: error: Incompatible types (expression has type \"List[str]\", TypedDict item \"gender\" has type \"str\")  [typeddict-item]\\n'"
      ]
     },
     "execution_count": 7,
     "metadata": {},
     "output_type": "execute_result"
    }
   ],
   "source": [
    "typecheck(In[6])"
   ]
  },
  {
   "cell_type": "markdown",
   "id": "073f57e5-09db-4122-8488-c56d73278052",
   "metadata": {},
   "source": [
    "#### Create fhir-py resource from typed dict fields"
   ]
  },
  {
   "cell_type": "code",
   "execution_count": 8,
   "id": "544af06f-b673-4341-b156-0f6678ed310e",
   "metadata": {},
   "outputs": [],
   "source": [
    "client.resource(\"Patient\", **patient).save()"
   ]
  },
  {
   "cell_type": "markdown",
   "id": "6d26ca72-70e5-4b4a-b00a-ff2ccfa03eaf",
   "metadata": {},
   "source": [
    "#### Type-cast fhir-py resource back to the definition to work with data fields"
   ]
  },
  {
   "cell_type": "code",
   "execution_count": 9,
   "id": "63d671bd-b1bc-43c9-80c2-54e0da3d2a36",
   "metadata": {},
   "outputs": [
    {
     "data": {
      "text/plain": [
       "[{'given': ['Andrew'], 'family': 'Smith'}]"
      ]
     },
     "execution_count": 9,
     "metadata": {},
     "output_type": "execute_result"
    }
   ],
   "source": [
    "patient: Patient = client.resources(\"Patient\").search(name=\"Smith\").first()\n",
    "patient[\"name\"]"
   ]
  },
  {
   "cell_type": "code",
   "execution_count": 10,
   "id": "accdc45a-f1b4-4289-955c-627bb554d745",
   "metadata": {},
   "outputs": [
    {
     "data": {
      "text/plain": [
       "'OK'"
      ]
     },
     "execution_count": 10,
     "metadata": {},
     "output_type": "execute_result"
    }
   ],
   "source": [
    "typecheck(In[9])"
   ]
  },
  {
   "cell_type": "code",
   "execution_count": null,
   "id": "aaa8dcee-0242-412a-aa73-cd6d88e0c291",
   "metadata": {},
   "outputs": [],
   "source": []
  }
 ],
 "metadata": {
  "kernelspec": {
   "display_name": "Python 3 (ipykernel)",
   "language": "python",
   "name": "python3"
  },
  "language_info": {
   "codemirror_mode": {
    "name": "ipython",
    "version": 3
   },
   "file_extension": ".py",
   "mimetype": "text/x-python",
   "name": "python",
   "nbconvert_exporter": "python",
   "pygments_lexer": "ipython3",
   "version": "3.10.8"
  }
 },
 "nbformat": 4,
 "nbformat_minor": 5
}
